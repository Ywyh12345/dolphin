{
 "cells": [
  {
   "cell_type": "markdown",
   "metadata": {},
   "source": [
    "# Simplest use case\n",
    "\n",
    "## Running a model from the config file\n",
    "\n",
    "Setting up the `dolphin` ecosystem:\n",
    "\n",
    "- Install `dolphin`, `lenstronomy`, and the required dependencies.\n",
    "- Create an input/output directory for `dolphin`, we are using \"../io_directory_example\" in this example.\n",
    "- Set up these directories inside the input/output directory. Look inside \"../io_directory_example\" for example. \n",
    "    - **data**: contains subdirectories for each lens system with a data and PSF files for each band.\n",
    "    - **settings**: contains the 'config_{lens_name}.yml' files for each lens system,\n",
    "    - **logs**: to write the log files from model runs,\n",
    "    - **outputs**: to save the model outputs,\n",
    "    - **hpc**: *optional*, contains scripts to submit batch jobs in MPI.\n",
    " \n",
    "\n",
    "   \n",
    "### Data format\n",
    "\n",
    "The image data file needs to be in the hdf5 formate with the following datasets:\n",
    "\n",
    "- `image_data`: reduced and background subtracted image cutout centered at the lens system,\n",
    "- `background_rms`: background level,\n",
    "- `exposure_time`: the map of exposure times for each pixel, so that `image_data * exposure_time` is Poisson noise distributed,\n",
    "- `ra_at_xy_0`: RA of the (0, 0) pixel in the `image_data` cutout,\n",
    "- `dec_at_xy_0`: Dec of the (0, 0) pixel in the `image_data` cutout,\n",
    "- `transform_pix2angle`: a transform matrix to map the pixel numbers (x, y) to angles (RA, Dec).\n",
    "\n",
    "The PSF data file needs to be in the hdf5 format with the following datasets:\n",
    "\n",
    "- `kernel_point_source`: a pixelated PSF (not required to have the same dimension of `image_data`),\n",
    "- `psf_error_map`: *optional*, uncertainty in the provided PSF, needs to have the same dimension of `kernel_point_source`. \n",
    "\n",
    "### Config file format\n",
    "\n",
    "The 'config_{lens_name}.yml' file provides you options to set up the lens model. Here is the content of the config file that is used in the example model below."
   ]
  },
  {
   "cell_type": "raw",
   "metadata": {},
   "source": [
    "---\n",
    "system_name: 'lens_system2'\n",
    "\n",
    "band:\n",
    "  - 'F390W'\n",
    "\n",
    "pixel_size : 0.04\n",
    "\n",
    "model:\n",
    "  lens:\n",
    "    - 'SPEP'\n",
    "    - 'SHEAR_GAMMA_PSI'\n",
    "  lens_light:\n",
    "    - 'SERSIC_ELLIPSE'\n",
    "  source_light:\n",
    "    - 'SHAPELETS'\n",
    "\n",
    "lens_option:\n",
    "  centroid_init: [0.04, -0.04]\n",
    "\n",
    "lens_light_option:\n",
    "  fix: {0: {'n_sersic': 4.}} # fix n_sersic to 4. for 0-th light profile\n",
    "\n",
    "source_light_option:\n",
    "  n_max: [4] # array with n_max for each band\n",
    "\n",
    "fitting:\n",
    "  pso: true\n",
    "  pso_settings:\n",
    "    num_particle: 20\n",
    "    num_iteration: 50\n",
    "    \n",
    "  sampling: true\n",
    "  sampler: 'MCMC'\n",
    "  mcmc_settings:\n",
    "    burnin_step: 0\n",
    "    iteration_step: 100\n",
    "    walker_ratio: 2\n",
    "\n",
    "kwargs_numerics:\n",
    "  supersampling_factor: [2]"
   ]
  },
  {
   "cell_type": "markdown",
   "metadata": {},
   "source": [
    "### create a `Processor` instance and point to the IO directory"
   ]
  },
  {
   "cell_type": "code",
   "execution_count": 1,
   "metadata": {},
   "outputs": [
    {
     "name": "stdout",
     "output_type": "stream",
     "text": [
      "/Users/chinyi/Desktop/dolphin/dolphin/processor/__init__.py\n"
     ]
    }
   ],
   "source": [
    "from dolphin.processor import Processor \n",
    "import dolphin\n",
    "print(dolphin.processor.__file__)\n",
    "\n",
    "processor = Processor('../io_directory_example/')\n"
   ]
  },
  {
   "cell_type": "markdown",
   "metadata": {},
   "source": [
    "### Run a model by calling the  `swim()` method"
   ]
  },
  {
   "cell_type": "code",
   "execution_count": 2,
   "metadata": {
    "scrolled": false
   },
   "outputs": [
    {
     "name": "stdout",
     "output_type": "stream",
     "text": [
      "lens_model_list: ['SPEP', 'SHEAR_GAMMA_PSI']\n",
      "\n",
      "lens_light_model_list: ['SERSIC_ELLIPSE', 'SERSIC_ELLIPSE', 'SERSIC_ELLIPSE', 'SERSIC_ELLIPSE']\n",
      "lens_light_indices: [[0, 1], [2, 3]]\n",
      "\n",
      "source_light_model_list: ['SHAPELETS', 'SHAPELETS']\n",
      "source_light_indices: [[0], [1]]\n",
      "\n",
      "joint_lens_with_lens: []\n",
      "joint_lens_light_with_lens: []\n",
      "joint_lens_light_with_lens_light: [[0, 1, ['center_x', 'center_y']], [0, 2, ['center_x', 'center_y']], [0, 3, ['center_x', 'center_y']]]\n",
      "joint_source_with_source: [[0, 1, ['center_x', 'center_y']]]\n",
      "joint_source_with_point_source: []\n",
      "\n",
      "nmax: [4, 4]\n",
      "0 {'n_sersic': 4.0}\n",
      "1 {'n_sersic': 3.5}\n",
      "Computing the PSO ...\n",
      "PSO: Exception while calling your likelihood function:\n",
      "  params: [0.947523144439404, 0.06714452322192474, -0.09944905415984898, 0.08347693876132845, -0.10905610050349202, 0.0014783677862011473, -0.009431373872207539, 0.15000396969113364, -0.23806925463223483, 0.02630959616309958, 0.1493003927833561, 0.18166637683981895, -0.009017138917139317, 0.052059957150663555, 0.036574197032339884, -0.04307151467363566, 0.17237389521283084, 0.05021103486436615, -0.049104737070428756, 0.22369681273586078, -0.00982139212357562, -0.044901700586775076, 0.2291112651059783, -0.04484633874432804, 0.06545472263021335]\n",
      "  args: []\n",
      "  kwargs: {}\n",
      "  exception:\n"
     ]
    },
    {
     "name": "stderr",
     "output_type": "stream",
     "text": [
      "Traceback (most recent call last):\n",
      "  File \"/Users/chinyi/Desktop/lenstronomy/lenstronomy/Sampling/Samplers/pso.py\", line 446, in __call__\n",
      "    return self.f(x, *self.args, **self.kwargs)\n",
      "  File \"/Users/chinyi/Desktop/lenstronomy/lenstronomy/Sampling/likelihood.py\", line 154, in logL\n",
      "    return self.log_likelihood(kwargs_return, verbose=verbose)\n",
      "  File \"/Users/chinyi/Desktop/lenstronomy/lenstronomy/Sampling/likelihood.py\", line 169, in log_likelihood\n",
      "    logL_image = self.image_likelihood.logL(**kwargs_return)\n",
      "  File \"/Users/chinyi/Desktop/lenstronomy/lenstronomy/Sampling/Likelihoods/image_likelihood.py\", line 51, in logL\n",
      "    check_positive_flux=self._check_positive_flux)\n",
      "  File \"/Users/chinyi/Desktop/lenstronomy/lenstronomy/ImSim/MultiBand/multi_linear.py\", line 100, in likelihood_data_given_model\n",
      "    check_positive_flux=check_positive_flux)\n",
      "  File \"/Users/chinyi/Desktop/lenstronomy/lenstronomy/ImSim/MultiBand/single_band_multi_model.py\", line 109, in likelihood_data_given_model\n",
      "    linear_prior=linear_prior, check_positive_flux=check_positive_flux)\n",
      "  File \"/Users/chinyi/Desktop/lenstronomy/lenstronomy/ImSim/image_linear_solve.py\", line 213, in _likelihood_data_given_model\n",
      "    inv_bool=source_marg)\n",
      "  File \"/Users/chinyi/Desktop/lenstronomy/lenstronomy/ImSim/image_linear_solve.py\", line 91, in _image_linear_solve\n",
      "    A = self._linear_response_matrix(kwargs_lens, kwargs_source, kwargs_lens_light, kwargs_ps, kwargs_extinction, kwargs_special)\n",
      "  File \"/Users/chinyi/Desktop/lenstronomy/lenstronomy/ImSim/image_linear_solve.py\", line 261, in _linear_response_matrix\n",
      "    kwargs_source)\n",
      "  File \"/Users/chinyi/Desktop/lenstronomy/lenstronomy/ImSim/image2source_mapping.py\", line 163, in image_flux_split\n",
      "    return self._lightModel.functions_split(x_source, y_source, kwargs_source)\n",
      "  File \"/Users/chinyi/Desktop/lenstronomy/lenstronomy/LightModel/linear_basis.py\", line 74, in functions_split\n",
      "    response += self.func_list[i].function_split(x, y, **kwargs_new)\n",
      "  File \"/Users/chinyi/Desktop/lenstronomy/lenstronomy/LightModel/Profiles/shapelets.py\", line 195, in function_split\n",
      "    H_x, H_y = self.shapelets.pre_calc(x, y, beta, n_max, center_x, center_y)\n",
      "  File \"/Users/chinyi/Desktop/lenstronomy/lenstronomy/LightModel/Profiles/shapelets.py\", line 141, in pre_calc\n",
      "    H_x[n] = self.hermval(x_/beta, n_array, tensor=False) * prefactor * np.exp(-(x_/beta)**2/2.)\n",
      "  File \"/Users/chinyi/Desktop/lenstronomy/lenstronomy/LightModel/Profiles/shapelets.py\", line 64, in hermval\n",
      "    out[x < x_cut] = hermite.hermval(x[x < x_cut], n_array, tensor=tensor)\n",
      "  File \"/Users/chinyi/anaconda3/envs/astroconda/lib/python3.6/site-packages/numpy/polynomial/hermite.py\", line 887, in hermval\n",
      "    return c0 + c1*x2\n",
      "KeyboardInterrupt\n"
     ]
    },
    {
     "ename": "KeyboardInterrupt",
     "evalue": "",
     "output_type": "error",
     "traceback": [
      "\u001b[0;31m---------------------------------------------------------------------------\u001b[0m",
      "\u001b[0;31mKeyboardInterrupt\u001b[0m                         Traceback (most recent call last)",
      "\u001b[0;32m<ipython-input-2-cdcb720b44f7>\u001b[0m in \u001b[0;36m<module>\u001b[0;34m\u001b[0m\n\u001b[0;32m----> 1\u001b[0;31m \u001b[0mprocessor\u001b[0m\u001b[0;34m.\u001b[0m\u001b[0mswim\u001b[0m\u001b[0;34m(\u001b[0m\u001b[0mlens_name\u001b[0m\u001b[0;34m=\u001b[0m\u001b[0;34m'SL2SJ0219-0829'\u001b[0m\u001b[0;34m,\u001b[0m \u001b[0mmodel_id\u001b[0m\u001b[0;34m=\u001b[0m\u001b[0;34m'example2'\u001b[0m\u001b[0;34m,\u001b[0m \u001b[0mlog\u001b[0m\u001b[0;34m=\u001b[0m\u001b[0;32mFalse\u001b[0m\u001b[0;34m,\u001b[0m\u001b[0mverbose\u001b[0m\u001b[0;34m=\u001b[0m\u001b[0;32mTrue\u001b[0m\u001b[0;34m)\u001b[0m\u001b[0;34m\u001b[0m\u001b[0;34m\u001b[0m\u001b[0m\n\u001b[0m",
      "\u001b[0;32m~/Desktop/dolphin/dolphin/processor/core.py\u001b[0m in \u001b[0;36mswim\u001b[0;34m(self, lens_name, model_id, log, mpi, verbose, recipe_name, sampler, thread_count)\u001b[0m\n\u001b[1;32m     83\u001b[0m                                     \u001b[0mkwargs_data_joint\u001b[0m\u001b[0;34m=\u001b[0m\u001b[0mkwargs_data_joint\u001b[0m\u001b[0;34m,\u001b[0m\u001b[0;34m\u001b[0m\u001b[0;34m\u001b[0m\u001b[0m\n\u001b[1;32m     84\u001b[0m                                     recipe_name=recipe_name)\n\u001b[0;32m---> 85\u001b[0;31m         \u001b[0mfit_output\u001b[0m \u001b[0;34m=\u001b[0m \u001b[0mfitting_sequence\u001b[0m\u001b[0;34m.\u001b[0m\u001b[0mfit_sequence\u001b[0m\u001b[0;34m(\u001b[0m\u001b[0mfitting_kwargs_list\u001b[0m\u001b[0;34m)\u001b[0m\u001b[0;34m\u001b[0m\u001b[0;34m\u001b[0m\u001b[0m\n\u001b[0m\u001b[1;32m     86\u001b[0m         \u001b[0mkwargs_result\u001b[0m \u001b[0;34m=\u001b[0m \u001b[0mfitting_sequence\u001b[0m\u001b[0;34m.\u001b[0m\u001b[0mbest_fit\u001b[0m\u001b[0;34m(\u001b[0m\u001b[0mbijective\u001b[0m\u001b[0;34m=\u001b[0m\u001b[0;32mFalse\u001b[0m\u001b[0;34m)\u001b[0m\u001b[0;34m\u001b[0m\u001b[0;34m\u001b[0m\u001b[0m\n\u001b[1;32m     87\u001b[0m \u001b[0;34m\u001b[0m\u001b[0m\n",
      "\u001b[0;32m~/Desktop/lenstronomy/lenstronomy/Workflow/fitting_sequence.py\u001b[0m in \u001b[0;36mfit_sequence\u001b[0;34m(self, fitting_list)\u001b[0m\n\u001b[1;32m     80\u001b[0m \u001b[0;34m\u001b[0m\u001b[0m\n\u001b[1;32m     81\u001b[0m             \u001b[0;32melif\u001b[0m \u001b[0mfitting_type\u001b[0m \u001b[0;34m==\u001b[0m \u001b[0;34m'PSO'\u001b[0m\u001b[0;34m:\u001b[0m\u001b[0;34m\u001b[0m\u001b[0;34m\u001b[0m\u001b[0m\n\u001b[0;32m---> 82\u001b[0;31m                 \u001b[0mkwargs_result\u001b[0m\u001b[0;34m,\u001b[0m \u001b[0mchain\u001b[0m\u001b[0;34m,\u001b[0m \u001b[0mparam\u001b[0m \u001b[0;34m=\u001b[0m \u001b[0mself\u001b[0m\u001b[0;34m.\u001b[0m\u001b[0mpso\u001b[0m\u001b[0;34m(\u001b[0m\u001b[0;34m**\u001b[0m\u001b[0mkwargs\u001b[0m\u001b[0;34m)\u001b[0m\u001b[0;34m\u001b[0m\u001b[0;34m\u001b[0m\u001b[0m\n\u001b[0m\u001b[1;32m     83\u001b[0m                 \u001b[0mself\u001b[0m\u001b[0;34m.\u001b[0m\u001b[0m_updateManager\u001b[0m\u001b[0;34m.\u001b[0m\u001b[0mupdate_param_state\u001b[0m\u001b[0;34m(\u001b[0m\u001b[0;34m**\u001b[0m\u001b[0mkwargs_result\u001b[0m\u001b[0;34m)\u001b[0m\u001b[0;34m\u001b[0m\u001b[0;34m\u001b[0m\u001b[0m\n\u001b[1;32m     84\u001b[0m                 \u001b[0mchain_list\u001b[0m\u001b[0;34m.\u001b[0m\u001b[0mappend\u001b[0m\u001b[0;34m(\u001b[0m\u001b[0;34m[\u001b[0m\u001b[0mfitting_type\u001b[0m\u001b[0;34m,\u001b[0m \u001b[0mchain\u001b[0m\u001b[0;34m,\u001b[0m \u001b[0mparam\u001b[0m\u001b[0;34m]\u001b[0m\u001b[0;34m)\u001b[0m\u001b[0;34m\u001b[0m\u001b[0;34m\u001b[0m\u001b[0m\n",
      "\u001b[0;32m~/Desktop/lenstronomy/lenstronomy/Workflow/fitting_sequence.py\u001b[0m in \u001b[0;36mpso\u001b[0;34m(self, n_particles, n_iterations, sigma_scale, print_key, threadCount)\u001b[0m\n\u001b[1;32m    262\u001b[0m         \u001b[0msampler\u001b[0m \u001b[0;34m=\u001b[0m \u001b[0mSampler\u001b[0m\u001b[0;34m(\u001b[0m\u001b[0mlikelihoodModule\u001b[0m\u001b[0;34m=\u001b[0m\u001b[0mself\u001b[0m\u001b[0;34m.\u001b[0m\u001b[0mlikelihoodModule\u001b[0m\u001b[0;34m)\u001b[0m\u001b[0;34m\u001b[0m\u001b[0;34m\u001b[0m\u001b[0m\n\u001b[1;32m    263\u001b[0m         result, chain = sampler.pso(n_particles, n_iterations, lowerLimit, upperLimit, init_pos=init_pos,\n\u001b[0;32m--> 264\u001b[0;31m                                        threadCount=threadCount, mpi=self._mpi, print_key=print_key)\n\u001b[0m\u001b[1;32m    265\u001b[0m         \u001b[0mkwargs_result\u001b[0m \u001b[0;34m=\u001b[0m \u001b[0mparam_class\u001b[0m\u001b[0;34m.\u001b[0m\u001b[0margs2kwargs\u001b[0m\u001b[0;34m(\u001b[0m\u001b[0mresult\u001b[0m\u001b[0;34m,\u001b[0m \u001b[0mbijective\u001b[0m\u001b[0;34m=\u001b[0m\u001b[0;32mTrue\u001b[0m\u001b[0;34m)\u001b[0m\u001b[0;34m\u001b[0m\u001b[0;34m\u001b[0m\u001b[0m\n\u001b[1;32m    266\u001b[0m         \u001b[0;32mreturn\u001b[0m \u001b[0mkwargs_result\u001b[0m\u001b[0;34m,\u001b[0m \u001b[0mchain\u001b[0m\u001b[0;34m,\u001b[0m \u001b[0mparam_list\u001b[0m\u001b[0;34m\u001b[0m\u001b[0;34m\u001b[0m\u001b[0m\n",
      "\u001b[0;32m~/Desktop/lenstronomy/lenstronomy/Sampling/sampler.py\u001b[0m in \u001b[0;36mpso\u001b[0;34m(self, n_particles, n_iterations, lower_start, upper_start, threadCount, init_pos, mpi, print_key)\u001b[0m\n\u001b[1;32m    103\u001b[0m         \u001b[0mtime_start\u001b[0m \u001b[0;34m=\u001b[0m \u001b[0mtime\u001b[0m\u001b[0;34m.\u001b[0m\u001b[0mtime\u001b[0m\u001b[0;34m(\u001b[0m\u001b[0;34m)\u001b[0m\u001b[0;34m\u001b[0m\u001b[0;34m\u001b[0m\u001b[0m\n\u001b[1;32m    104\u001b[0m \u001b[0;34m\u001b[0m\u001b[0m\n\u001b[0;32m--> 105\u001b[0;31m         \u001b[0mresult\u001b[0m\u001b[0;34m,\u001b[0m \u001b[0;34m[\u001b[0m\u001b[0mchi2_list\u001b[0m\u001b[0;34m,\u001b[0m \u001b[0mpos_list\u001b[0m\u001b[0;34m,\u001b[0m \u001b[0mvel_list\u001b[0m\u001b[0;34m]\u001b[0m \u001b[0;34m=\u001b[0m \u001b[0mpso\u001b[0m\u001b[0;34m.\u001b[0m\u001b[0moptimize\u001b[0m\u001b[0;34m(\u001b[0m\u001b[0mn_iterations\u001b[0m\u001b[0;34m)\u001b[0m\u001b[0;34m\u001b[0m\u001b[0;34m\u001b[0m\u001b[0m\n\u001b[0m\u001b[1;32m    106\u001b[0m \u001b[0;34m\u001b[0m\u001b[0m\n\u001b[1;32m    107\u001b[0m         \u001b[0;32mif\u001b[0m \u001b[0mpool\u001b[0m\u001b[0;34m.\u001b[0m\u001b[0mis_master\u001b[0m\u001b[0;34m(\u001b[0m\u001b[0;34m)\u001b[0m\u001b[0;34m:\u001b[0m\u001b[0;34m\u001b[0m\u001b[0;34m\u001b[0m\u001b[0m\n",
      "\u001b[0;32m~/Desktop/lenstronomy/lenstronomy/Sampling/Samplers/pso.py\u001b[0m in \u001b[0;36moptimize\u001b[0;34m(self, max_iter, verbose, c1, c2, p, m, n, early_stop_tolerance)\u001b[0m\n\u001b[1;32m    206\u001b[0m \u001b[0;34m\u001b[0m\u001b[0m\n\u001b[1;32m    207\u001b[0m         \u001b[0mnum_iter\u001b[0m \u001b[0;34m=\u001b[0m \u001b[0;36m0\u001b[0m\u001b[0;34m\u001b[0m\u001b[0;34m\u001b[0m\u001b[0m\n\u001b[0;32m--> 208\u001b[0;31m         \u001b[0;32mfor\u001b[0m \u001b[0m_\u001b[0m \u001b[0;32min\u001b[0m \u001b[0mself\u001b[0m\u001b[0;34m.\u001b[0m\u001b[0msample\u001b[0m\u001b[0;34m(\u001b[0m\u001b[0mmax_iter\u001b[0m\u001b[0;34m,\u001b[0m \u001b[0mc1\u001b[0m\u001b[0;34m,\u001b[0m \u001b[0mc2\u001b[0m\u001b[0;34m,\u001b[0m \u001b[0mp\u001b[0m\u001b[0;34m,\u001b[0m \u001b[0mm\u001b[0m\u001b[0;34m,\u001b[0m \u001b[0mn\u001b[0m\u001b[0;34m,\u001b[0m \u001b[0mearly_stop_tolerance\u001b[0m\u001b[0;34m)\u001b[0m\u001b[0;34m:\u001b[0m\u001b[0;34m\u001b[0m\u001b[0;34m\u001b[0m\u001b[0m\n\u001b[0m\u001b[1;32m    209\u001b[0m             \u001b[0mchi2_list\u001b[0m\u001b[0;34m.\u001b[0m\u001b[0mappend\u001b[0m\u001b[0;34m(\u001b[0m\u001b[0mself\u001b[0m\u001b[0;34m.\u001b[0m\u001b[0mglobal_best\u001b[0m\u001b[0;34m.\u001b[0m\u001b[0mfitness\u001b[0m \u001b[0;34m*\u001b[0m \u001b[0;36m2\u001b[0m\u001b[0;34m)\u001b[0m\u001b[0;34m\u001b[0m\u001b[0;34m\u001b[0m\u001b[0m\n\u001b[1;32m    210\u001b[0m             \u001b[0mvel_list\u001b[0m\u001b[0;34m.\u001b[0m\u001b[0mappend\u001b[0m\u001b[0;34m(\u001b[0m\u001b[0mself\u001b[0m\u001b[0;34m.\u001b[0m\u001b[0mglobal_best\u001b[0m\u001b[0;34m.\u001b[0m\u001b[0mvelocity\u001b[0m\u001b[0;34m)\u001b[0m\u001b[0;34m\u001b[0m\u001b[0;34m\u001b[0m\u001b[0m\n",
      "\u001b[0;32m~/Desktop/lenstronomy/lenstronomy/Sampling/Samplers/pso.py\u001b[0m in \u001b[0;36msample\u001b[0;34m(self, max_iter, c1, c2, p, m, n, early_stop_tolerance)\u001b[0m\n\u001b[1;32m    176\u001b[0m                                      np.array(particle.velocity)).tolist()\n\u001b[1;32m    177\u001b[0m \u001b[0;34m\u001b[0m\u001b[0m\n\u001b[0;32m--> 178\u001b[0;31m             \u001b[0mself\u001b[0m\u001b[0;34m.\u001b[0m\u001b[0m_get_fitness\u001b[0m\u001b[0;34m(\u001b[0m\u001b[0mself\u001b[0m\u001b[0;34m.\u001b[0m\u001b[0mswarm\u001b[0m\u001b[0;34m)\u001b[0m\u001b[0;34m\u001b[0m\u001b[0;34m\u001b[0m\u001b[0m\n\u001b[0m\u001b[1;32m    179\u001b[0m \u001b[0;34m\u001b[0m\u001b[0m\n\u001b[1;32m    180\u001b[0m             \u001b[0mswarm\u001b[0m \u001b[0;34m=\u001b[0m \u001b[0;34m[\u001b[0m\u001b[0;34m]\u001b[0m\u001b[0;34m\u001b[0m\u001b[0;34m\u001b[0m\u001b[0m\n",
      "\u001b[0;32m~/Desktop/lenstronomy/lenstronomy/Sampling/Samplers/pso.py\u001b[0m in \u001b[0;36m_get_fitness\u001b[0;34m(self, swarm)\u001b[0m\n\u001b[1;32m    231\u001b[0m         \u001b[0;32melse\u001b[0m\u001b[0;34m:\u001b[0m\u001b[0;34m\u001b[0m\u001b[0;34m\u001b[0m\u001b[0m\n\u001b[1;32m    232\u001b[0m             \u001b[0mmap_func\u001b[0m \u001b[0;34m=\u001b[0m \u001b[0mself\u001b[0m\u001b[0;34m.\u001b[0m\u001b[0mpool\u001b[0m\u001b[0;34m.\u001b[0m\u001b[0mmap\u001b[0m\u001b[0;34m\u001b[0m\u001b[0;34m\u001b[0m\u001b[0m\n\u001b[0;32m--> 233\u001b[0;31m         \u001b[0mln_probability\u001b[0m \u001b[0;34m=\u001b[0m \u001b[0mlist\u001b[0m\u001b[0;34m(\u001b[0m\u001b[0mmap_func\u001b[0m\u001b[0;34m(\u001b[0m\u001b[0mself\u001b[0m\u001b[0;34m.\u001b[0m\u001b[0mfunc\u001b[0m\u001b[0;34m,\u001b[0m \u001b[0mposition\u001b[0m\u001b[0;34m)\u001b[0m\u001b[0;34m)\u001b[0m\u001b[0;34m\u001b[0m\u001b[0;34m\u001b[0m\u001b[0m\n\u001b[0m\u001b[1;32m    234\u001b[0m \u001b[0;34m\u001b[0m\u001b[0m\n\u001b[1;32m    235\u001b[0m         \u001b[0;32mfor\u001b[0m \u001b[0mi\u001b[0m\u001b[0;34m,\u001b[0m \u001b[0mparticle\u001b[0m \u001b[0;32min\u001b[0m \u001b[0menumerate\u001b[0m\u001b[0;34m(\u001b[0m\u001b[0mswarm\u001b[0m\u001b[0;34m)\u001b[0m\u001b[0;34m:\u001b[0m\u001b[0;34m\u001b[0m\u001b[0;34m\u001b[0m\u001b[0m\n",
      "\u001b[0;32m~/Desktop/lenstronomy/lenstronomy/Sampling/Samplers/pso.py\u001b[0m in \u001b[0;36m__call__\u001b[0;34m(self, x)\u001b[0m\n\u001b[1;32m    444\u001b[0m     \u001b[0;32mdef\u001b[0m \u001b[0m__call__\u001b[0m\u001b[0;34m(\u001b[0m\u001b[0mself\u001b[0m\u001b[0;34m,\u001b[0m \u001b[0mx\u001b[0m\u001b[0;34m)\u001b[0m\u001b[0;34m:\u001b[0m\u001b[0;34m\u001b[0m\u001b[0;34m\u001b[0m\u001b[0m\n\u001b[1;32m    445\u001b[0m         \u001b[0;32mtry\u001b[0m\u001b[0;34m:\u001b[0m\u001b[0;34m\u001b[0m\u001b[0;34m\u001b[0m\u001b[0m\n\u001b[0;32m--> 446\u001b[0;31m             \u001b[0;32mreturn\u001b[0m \u001b[0mself\u001b[0m\u001b[0;34m.\u001b[0m\u001b[0mf\u001b[0m\u001b[0;34m(\u001b[0m\u001b[0mx\u001b[0m\u001b[0;34m,\u001b[0m \u001b[0;34m*\u001b[0m\u001b[0mself\u001b[0m\u001b[0;34m.\u001b[0m\u001b[0margs\u001b[0m\u001b[0;34m,\u001b[0m \u001b[0;34m**\u001b[0m\u001b[0mself\u001b[0m\u001b[0;34m.\u001b[0m\u001b[0mkwargs\u001b[0m\u001b[0;34m)\u001b[0m\u001b[0;34m\u001b[0m\u001b[0;34m\u001b[0m\u001b[0m\n\u001b[0m\u001b[1;32m    447\u001b[0m         \u001b[0;32mexcept\u001b[0m\u001b[0;34m:\u001b[0m  \u001b[0;31m# pragma: no cover\u001b[0m\u001b[0;34m\u001b[0m\u001b[0;34m\u001b[0m\u001b[0m\n\u001b[1;32m    448\u001b[0m             \u001b[0;32mimport\u001b[0m \u001b[0mtraceback\u001b[0m\u001b[0;34m\u001b[0m\u001b[0;34m\u001b[0m\u001b[0m\n",
      "\u001b[0;32m~/Desktop/lenstronomy/lenstronomy/Sampling/likelihood.py\u001b[0m in \u001b[0;36mlogL\u001b[0;34m(self, args, verbose)\u001b[0m\n\u001b[1;32m    152\u001b[0m             \u001b[0;32mif\u001b[0m \u001b[0mbound_hit\u001b[0m \u001b[0;32mis\u001b[0m \u001b[0;32mTrue\u001b[0m\u001b[0;34m:\u001b[0m\u001b[0;34m\u001b[0m\u001b[0;34m\u001b[0m\u001b[0m\n\u001b[1;32m    153\u001b[0m                 \u001b[0;32mreturn\u001b[0m \u001b[0;34m-\u001b[0m\u001b[0mnp\u001b[0m\u001b[0;34m.\u001b[0m\u001b[0minf\u001b[0m\u001b[0;34m\u001b[0m\u001b[0;34m\u001b[0m\u001b[0m\n\u001b[0;32m--> 154\u001b[0;31m         \u001b[0;32mreturn\u001b[0m \u001b[0mself\u001b[0m\u001b[0;34m.\u001b[0m\u001b[0mlog_likelihood\u001b[0m\u001b[0;34m(\u001b[0m\u001b[0mkwargs_return\u001b[0m\u001b[0;34m,\u001b[0m \u001b[0mverbose\u001b[0m\u001b[0;34m=\u001b[0m\u001b[0mverbose\u001b[0m\u001b[0;34m)\u001b[0m\u001b[0;34m\u001b[0m\u001b[0;34m\u001b[0m\u001b[0m\n\u001b[0m\u001b[1;32m    155\u001b[0m \u001b[0;34m\u001b[0m\u001b[0m\n\u001b[1;32m    156\u001b[0m     \u001b[0;32mdef\u001b[0m \u001b[0mlog_likelihood\u001b[0m\u001b[0;34m(\u001b[0m\u001b[0mself\u001b[0m\u001b[0;34m,\u001b[0m \u001b[0mkwargs_return\u001b[0m\u001b[0;34m,\u001b[0m \u001b[0mverbose\u001b[0m\u001b[0;34m=\u001b[0m\u001b[0;32mFalse\u001b[0m\u001b[0;34m)\u001b[0m\u001b[0;34m:\u001b[0m\u001b[0;34m\u001b[0m\u001b[0;34m\u001b[0m\u001b[0m\n",
      "\u001b[0;32m~/Desktop/lenstronomy/lenstronomy/Sampling/likelihood.py\u001b[0m in \u001b[0;36mlog_likelihood\u001b[0;34m(self, kwargs_return, verbose)\u001b[0m\n\u001b[1;32m    167\u001b[0m \u001b[0;34m\u001b[0m\u001b[0m\n\u001b[1;32m    168\u001b[0m         \u001b[0;32mif\u001b[0m \u001b[0mself\u001b[0m\u001b[0;34m.\u001b[0m\u001b[0m_image_likelihood\u001b[0m \u001b[0;32mis\u001b[0m \u001b[0;32mTrue\u001b[0m\u001b[0;34m:\u001b[0m\u001b[0;34m\u001b[0m\u001b[0;34m\u001b[0m\u001b[0m\n\u001b[0;32m--> 169\u001b[0;31m             \u001b[0mlogL_image\u001b[0m \u001b[0;34m=\u001b[0m \u001b[0mself\u001b[0m\u001b[0;34m.\u001b[0m\u001b[0mimage_likelihood\u001b[0m\u001b[0;34m.\u001b[0m\u001b[0mlogL\u001b[0m\u001b[0;34m(\u001b[0m\u001b[0;34m**\u001b[0m\u001b[0mkwargs_return\u001b[0m\u001b[0;34m)\u001b[0m\u001b[0;34m\u001b[0m\u001b[0;34m\u001b[0m\u001b[0m\n\u001b[0m\u001b[1;32m    170\u001b[0m             \u001b[0mlogL\u001b[0m \u001b[0;34m+=\u001b[0m \u001b[0mlogL_image\u001b[0m\u001b[0;34m\u001b[0m\u001b[0;34m\u001b[0m\u001b[0m\n\u001b[1;32m    171\u001b[0m             \u001b[0;32mif\u001b[0m \u001b[0mverbose\u001b[0m \u001b[0;32mis\u001b[0m \u001b[0;32mTrue\u001b[0m\u001b[0;34m:\u001b[0m\u001b[0;34m\u001b[0m\u001b[0;34m\u001b[0m\u001b[0m\n",
      "\u001b[0;32m~/Desktop/lenstronomy/lenstronomy/Sampling/Likelihoods/image_likelihood.py\u001b[0m in \u001b[0;36mlogL\u001b[0;34m(self, kwargs_lens, kwargs_source, kwargs_lens_light, kwargs_ps, kwargs_special, kwargs_extinction)\u001b[0m\n\u001b[1;32m     49\u001b[0m                                                       \u001b[0mkwargs_extinction\u001b[0m\u001b[0;34m=\u001b[0m\u001b[0mkwargs_extinction\u001b[0m\u001b[0;34m,\u001b[0m \u001b[0mkwargs_special\u001b[0m\u001b[0;34m=\u001b[0m\u001b[0mkwargs_special\u001b[0m\u001b[0;34m,\u001b[0m\u001b[0;34m\u001b[0m\u001b[0;34m\u001b[0m\u001b[0m\n\u001b[1;32m     50\u001b[0m                                                       \u001b[0msource_marg\u001b[0m\u001b[0;34m=\u001b[0m\u001b[0mself\u001b[0m\u001b[0;34m.\u001b[0m\u001b[0m_source_marg\u001b[0m\u001b[0;34m,\u001b[0m \u001b[0mlinear_prior\u001b[0m\u001b[0;34m=\u001b[0m\u001b[0mself\u001b[0m\u001b[0;34m.\u001b[0m\u001b[0m_linear_prior\u001b[0m\u001b[0;34m,\u001b[0m\u001b[0;34m\u001b[0m\u001b[0;34m\u001b[0m\u001b[0m\n\u001b[0;32m---> 51\u001b[0;31m                                                       check_positive_flux=self._check_positive_flux)\n\u001b[0m\u001b[1;32m     52\u001b[0m         \u001b[0;32mif\u001b[0m \u001b[0mnp\u001b[0m\u001b[0;34m.\u001b[0m\u001b[0misnan\u001b[0m\u001b[0;34m(\u001b[0m\u001b[0mlogL\u001b[0m\u001b[0;34m)\u001b[0m \u001b[0;32mis\u001b[0m \u001b[0;32mTrue\u001b[0m\u001b[0;34m:\u001b[0m\u001b[0;34m\u001b[0m\u001b[0;34m\u001b[0m\u001b[0m\n\u001b[1;32m     53\u001b[0m             \u001b[0;32mreturn\u001b[0m \u001b[0;34m-\u001b[0m\u001b[0;36m10\u001b[0m \u001b[0;34m**\u001b[0m \u001b[0;36m15\u001b[0m\u001b[0;34m\u001b[0m\u001b[0;34m\u001b[0m\u001b[0m\n",
      "\u001b[0;32m~/Desktop/lenstronomy/lenstronomy/ImSim/MultiBand/multi_linear.py\u001b[0m in \u001b[0;36mlikelihood_data_given_model\u001b[0;34m(self, kwargs_lens, kwargs_source, kwargs_lens_light, kwargs_ps, kwargs_extinction, kwargs_special, source_marg, linear_prior, check_positive_flux)\u001b[0m\n\u001b[1;32m     98\u001b[0m                                                                              \u001b[0msource_marg\u001b[0m\u001b[0;34m=\u001b[0m\u001b[0msource_marg\u001b[0m\u001b[0;34m,\u001b[0m\u001b[0;34m\u001b[0m\u001b[0;34m\u001b[0m\u001b[0m\n\u001b[1;32m     99\u001b[0m                                                                              \u001b[0mlinear_prior\u001b[0m\u001b[0;34m=\u001b[0m\u001b[0mlinear_prior\u001b[0m\u001b[0;34m[\u001b[0m\u001b[0mi\u001b[0m\u001b[0;34m]\u001b[0m\u001b[0;34m,\u001b[0m\u001b[0;34m\u001b[0m\u001b[0;34m\u001b[0m\u001b[0m\n\u001b[0;32m--> 100\u001b[0;31m                                                                              check_positive_flux=check_positive_flux)\n\u001b[0m\u001b[1;32m    101\u001b[0m         \u001b[0;32mreturn\u001b[0m \u001b[0mlogL\u001b[0m\u001b[0;34m\u001b[0m\u001b[0;34m\u001b[0m\u001b[0m\n",
      "\u001b[0;32m~/Desktop/lenstronomy/lenstronomy/ImSim/MultiBand/single_band_multi_model.py\u001b[0m in \u001b[0;36mlikelihood_data_given_model\u001b[0;34m(self, kwargs_lens, kwargs_source, kwargs_lens_light, kwargs_ps, kwargs_extinction, kwargs_special, source_marg, linear_prior, check_positive_flux)\u001b[0m\n\u001b[1;32m    107\u001b[0m         logL = self._likelihood_data_given_model(kwargs_lens_i, kwargs_source_i, kwargs_lens_light_i, kwargs_ps_i,\n\u001b[1;32m    108\u001b[0m                                                  \u001b[0mkwargs_extinction_i\u001b[0m\u001b[0;34m,\u001b[0m \u001b[0mkwargs_special\u001b[0m\u001b[0;34m,\u001b[0m \u001b[0msource_marg\u001b[0m\u001b[0;34m=\u001b[0m\u001b[0msource_marg\u001b[0m\u001b[0;34m,\u001b[0m\u001b[0;34m\u001b[0m\u001b[0;34m\u001b[0m\u001b[0m\n\u001b[0;32m--> 109\u001b[0;31m                                                  linear_prior=linear_prior, check_positive_flux=check_positive_flux)\n\u001b[0m\u001b[1;32m    110\u001b[0m         \u001b[0;32mreturn\u001b[0m \u001b[0mlogL\u001b[0m\u001b[0;34m\u001b[0m\u001b[0;34m\u001b[0m\u001b[0m\n\u001b[1;32m    111\u001b[0m \u001b[0;34m\u001b[0m\u001b[0m\n",
      "\u001b[0;32m~/Desktop/lenstronomy/lenstronomy/ImSim/image_linear_solve.py\u001b[0m in \u001b[0;36m_likelihood_data_given_model\u001b[0;34m(self, kwargs_lens, kwargs_source, kwargs_lens_light, kwargs_ps, kwargs_extinction, kwargs_special, source_marg, linear_prior, check_positive_flux)\u001b[0m\n\u001b[1;32m    211\u001b[0m         im_sim, model_error, cov_matrix, param = self._image_linear_solve(kwargs_lens, kwargs_source, kwargs_lens_light,\n\u001b[1;32m    212\u001b[0m                                                                           \u001b[0mkwargs_ps\u001b[0m\u001b[0;34m,\u001b[0m \u001b[0mkwargs_extinction\u001b[0m\u001b[0;34m,\u001b[0m \u001b[0mkwargs_special\u001b[0m\u001b[0;34m,\u001b[0m\u001b[0;34m\u001b[0m\u001b[0;34m\u001b[0m\u001b[0m\n\u001b[0;32m--> 213\u001b[0;31m                                                                           inv_bool=source_marg)\n\u001b[0m\u001b[1;32m    214\u001b[0m         \u001b[0;31m# compute X^2\u001b[0m\u001b[0;34m\u001b[0m\u001b[0;34m\u001b[0m\u001b[0;34m\u001b[0m\u001b[0m\n\u001b[1;32m    215\u001b[0m         \u001b[0mlogL\u001b[0m \u001b[0;34m=\u001b[0m \u001b[0mself\u001b[0m\u001b[0;34m.\u001b[0m\u001b[0mData\u001b[0m\u001b[0;34m.\u001b[0m\u001b[0mlog_likelihood\u001b[0m\u001b[0;34m(\u001b[0m\u001b[0mim_sim\u001b[0m\u001b[0;34m,\u001b[0m \u001b[0mself\u001b[0m\u001b[0;34m.\u001b[0m\u001b[0mlikelihood_mask\u001b[0m\u001b[0;34m,\u001b[0m \u001b[0mmodel_error\u001b[0m\u001b[0;34m)\u001b[0m\u001b[0;34m\u001b[0m\u001b[0;34m\u001b[0m\u001b[0m\n",
      "\u001b[0;32m~/Desktop/lenstronomy/lenstronomy/ImSim/image_linear_solve.py\u001b[0m in \u001b[0;36m_image_linear_solve\u001b[0;34m(self, kwargs_lens, kwargs_source, kwargs_lens_light, kwargs_ps, kwargs_extinction, kwargs_special, inv_bool)\u001b[0m\n\u001b[1;32m     89\u001b[0m                                                                                kwargs_extinction, kwargs_special)\n\u001b[1;32m     90\u001b[0m         \u001b[0;32melse\u001b[0m\u001b[0;34m:\u001b[0m\u001b[0;34m\u001b[0m\u001b[0;34m\u001b[0m\u001b[0m\n\u001b[0;32m---> 91\u001b[0;31m             \u001b[0mA\u001b[0m \u001b[0;34m=\u001b[0m \u001b[0mself\u001b[0m\u001b[0;34m.\u001b[0m\u001b[0m_linear_response_matrix\u001b[0m\u001b[0;34m(\u001b[0m\u001b[0mkwargs_lens\u001b[0m\u001b[0;34m,\u001b[0m \u001b[0mkwargs_source\u001b[0m\u001b[0;34m,\u001b[0m \u001b[0mkwargs_lens_light\u001b[0m\u001b[0;34m,\u001b[0m \u001b[0mkwargs_ps\u001b[0m\u001b[0;34m,\u001b[0m \u001b[0mkwargs_extinction\u001b[0m\u001b[0;34m,\u001b[0m \u001b[0mkwargs_special\u001b[0m\u001b[0;34m)\u001b[0m\u001b[0;34m\u001b[0m\u001b[0;34m\u001b[0m\u001b[0m\n\u001b[0m\u001b[1;32m     92\u001b[0m             \u001b[0mC_D_response\u001b[0m\u001b[0;34m,\u001b[0m \u001b[0mmodel_error\u001b[0m \u001b[0;34m=\u001b[0m \u001b[0mself\u001b[0m\u001b[0;34m.\u001b[0m\u001b[0m_error_response\u001b[0m\u001b[0;34m(\u001b[0m\u001b[0mkwargs_lens\u001b[0m\u001b[0;34m,\u001b[0m \u001b[0mkwargs_ps\u001b[0m\u001b[0;34m,\u001b[0m \u001b[0mkwargs_special\u001b[0m\u001b[0;34m=\u001b[0m\u001b[0mkwargs_special\u001b[0m\u001b[0;34m)\u001b[0m\u001b[0;34m\u001b[0m\u001b[0;34m\u001b[0m\u001b[0m\n\u001b[1;32m     93\u001b[0m             \u001b[0md\u001b[0m \u001b[0;34m=\u001b[0m \u001b[0mself\u001b[0m\u001b[0;34m.\u001b[0m\u001b[0mdata_response\u001b[0m\u001b[0;34m\u001b[0m\u001b[0;34m\u001b[0m\u001b[0m\n",
      "\u001b[0;32m~/Desktop/lenstronomy/lenstronomy/ImSim/image_linear_solve.py\u001b[0m in \u001b[0;36m_linear_response_matrix\u001b[0;34m(self, kwargs_lens, kwargs_source, kwargs_lens_light, kwargs_ps, kwargs_extinction, kwargs_special, unconvolved)\u001b[0m\n\u001b[1;32m    259\u001b[0m         \u001b[0mx_grid\u001b[0m\u001b[0;34m,\u001b[0m \u001b[0my_grid\u001b[0m \u001b[0;34m=\u001b[0m \u001b[0mself\u001b[0m\u001b[0;34m.\u001b[0m\u001b[0mImageNumerics\u001b[0m\u001b[0;34m.\u001b[0m\u001b[0mcoordinates_evaluate\u001b[0m\u001b[0;34m\u001b[0m\u001b[0;34m\u001b[0m\u001b[0m\n\u001b[1;32m    260\u001b[0m         source_light_response, n_source = self.source_mapping.image_flux_split(x_grid, y_grid, kwargs_lens,\n\u001b[0;32m--> 261\u001b[0;31m                                                                                kwargs_source)\n\u001b[0m\u001b[1;32m    262\u001b[0m         extinction = self._extinction.extinction(x_grid, y_grid, kwargs_extinction=kwargs_extinction,\n\u001b[1;32m    263\u001b[0m                                                  kwargs_special=kwargs_special)\n",
      "\u001b[0;32m~/Desktop/lenstronomy/lenstronomy/ImSim/image2source_mapping.py\u001b[0m in \u001b[0;36mimage_flux_split\u001b[0;34m(self, x, y, kwargs_lens, kwargs_source)\u001b[0m\n\u001b[1;32m    161\u001b[0m         \u001b[0;32mif\u001b[0m \u001b[0mself\u001b[0m\u001b[0;34m.\u001b[0m\u001b[0m_multi_source_plane\u001b[0m \u001b[0;32mis\u001b[0m \u001b[0;32mFalse\u001b[0m\u001b[0;34m:\u001b[0m\u001b[0;34m\u001b[0m\u001b[0;34m\u001b[0m\u001b[0m\n\u001b[1;32m    162\u001b[0m             \u001b[0mx_source\u001b[0m\u001b[0;34m,\u001b[0m \u001b[0my_source\u001b[0m \u001b[0;34m=\u001b[0m \u001b[0mself\u001b[0m\u001b[0;34m.\u001b[0m\u001b[0m_lensModel\u001b[0m\u001b[0;34m.\u001b[0m\u001b[0mray_shooting\u001b[0m\u001b[0;34m(\u001b[0m\u001b[0mx\u001b[0m\u001b[0;34m,\u001b[0m \u001b[0my\u001b[0m\u001b[0;34m,\u001b[0m \u001b[0mkwargs_lens\u001b[0m\u001b[0;34m)\u001b[0m\u001b[0;34m\u001b[0m\u001b[0;34m\u001b[0m\u001b[0m\n\u001b[0;32m--> 163\u001b[0;31m             \u001b[0;32mreturn\u001b[0m \u001b[0mself\u001b[0m\u001b[0;34m.\u001b[0m\u001b[0m_lightModel\u001b[0m\u001b[0;34m.\u001b[0m\u001b[0mfunctions_split\u001b[0m\u001b[0;34m(\u001b[0m\u001b[0mx_source\u001b[0m\u001b[0;34m,\u001b[0m \u001b[0my_source\u001b[0m\u001b[0;34m,\u001b[0m \u001b[0mkwargs_source\u001b[0m\u001b[0;34m)\u001b[0m\u001b[0;34m\u001b[0m\u001b[0;34m\u001b[0m\u001b[0m\n\u001b[0m\u001b[1;32m    164\u001b[0m         \u001b[0;32melse\u001b[0m\u001b[0;34m:\u001b[0m\u001b[0;34m\u001b[0m\u001b[0;34m\u001b[0m\u001b[0m\n\u001b[1;32m    165\u001b[0m             \u001b[0mresponse\u001b[0m \u001b[0;34m=\u001b[0m \u001b[0;34m[\u001b[0m\u001b[0;34m]\u001b[0m\u001b[0;34m\u001b[0m\u001b[0;34m\u001b[0m\u001b[0m\n",
      "\u001b[0;32m~/Desktop/lenstronomy/lenstronomy/LightModel/linear_basis.py\u001b[0m in \u001b[0;36mfunctions_split\u001b[0;34m(self, x, y, kwargs_list, k)\u001b[0m\n\u001b[1;32m     72\u001b[0m                     \u001b[0mkwargs_new\u001b[0m \u001b[0;34m=\u001b[0m \u001b[0mkwargs_list\u001b[0m\u001b[0;34m[\u001b[0m\u001b[0mi\u001b[0m\u001b[0;34m]\u001b[0m\u001b[0;34m.\u001b[0m\u001b[0mcopy\u001b[0m\u001b[0;34m(\u001b[0m\u001b[0;34m)\u001b[0m\u001b[0;34m\u001b[0m\u001b[0;34m\u001b[0m\u001b[0m\n\u001b[1;32m     73\u001b[0m                     \u001b[0mkwargs_new\u001b[0m\u001b[0;34m.\u001b[0m\u001b[0mupdate\u001b[0m\u001b[0;34m(\u001b[0m\u001b[0mnew\u001b[0m\u001b[0;34m)\u001b[0m\u001b[0;34m\u001b[0m\u001b[0;34m\u001b[0m\u001b[0m\n\u001b[0;32m---> 74\u001b[0;31m                     \u001b[0mresponse\u001b[0m \u001b[0;34m+=\u001b[0m \u001b[0mself\u001b[0m\u001b[0;34m.\u001b[0m\u001b[0mfunc_list\u001b[0m\u001b[0;34m[\u001b[0m\u001b[0mi\u001b[0m\u001b[0;34m]\u001b[0m\u001b[0;34m.\u001b[0m\u001b[0mfunction_split\u001b[0m\u001b[0;34m(\u001b[0m\u001b[0mx\u001b[0m\u001b[0;34m,\u001b[0m \u001b[0my\u001b[0m\u001b[0;34m,\u001b[0m \u001b[0;34m**\u001b[0m\u001b[0mkwargs_new\u001b[0m\u001b[0;34m)\u001b[0m\u001b[0;34m\u001b[0m\u001b[0;34m\u001b[0m\u001b[0m\n\u001b[0m\u001b[1;32m     75\u001b[0m                     \u001b[0mn\u001b[0m \u001b[0;34m+=\u001b[0m \u001b[0mnum_param\u001b[0m\u001b[0;34m\u001b[0m\u001b[0;34m\u001b[0m\u001b[0m\n\u001b[1;32m     76\u001b[0m                 \u001b[0;32melif\u001b[0m \u001b[0mmodel\u001b[0m \u001b[0;32min\u001b[0m \u001b[0;34m[\u001b[0m\u001b[0;34m'SLIT_STARLETS'\u001b[0m\u001b[0;34m,\u001b[0m \u001b[0;34m'SLIT_STARLETS_GEN2'\u001b[0m\u001b[0;34m]\u001b[0m\u001b[0;34m:\u001b[0m\u001b[0;34m\u001b[0m\u001b[0;34m\u001b[0m\u001b[0m\n",
      "\u001b[0;32m~/Desktop/lenstronomy/lenstronomy/LightModel/Profiles/shapelets.py\u001b[0m in \u001b[0;36mfunction_split\u001b[0;34m(self, x, y, amp, n_max, beta, center_x, center_y)\u001b[0m\n\u001b[1;32m    193\u001b[0m         \u001b[0mn1\u001b[0m \u001b[0;34m=\u001b[0m \u001b[0;36m0\u001b[0m\u001b[0;34m\u001b[0m\u001b[0;34m\u001b[0m\u001b[0m\n\u001b[1;32m    194\u001b[0m         \u001b[0mn2\u001b[0m \u001b[0;34m=\u001b[0m \u001b[0;36m0\u001b[0m\u001b[0;34m\u001b[0m\u001b[0;34m\u001b[0m\u001b[0m\n\u001b[0;32m--> 195\u001b[0;31m         \u001b[0mH_x\u001b[0m\u001b[0;34m,\u001b[0m \u001b[0mH_y\u001b[0m \u001b[0;34m=\u001b[0m \u001b[0mself\u001b[0m\u001b[0;34m.\u001b[0m\u001b[0mshapelets\u001b[0m\u001b[0;34m.\u001b[0m\u001b[0mpre_calc\u001b[0m\u001b[0;34m(\u001b[0m\u001b[0mx\u001b[0m\u001b[0;34m,\u001b[0m \u001b[0my\u001b[0m\u001b[0;34m,\u001b[0m \u001b[0mbeta\u001b[0m\u001b[0;34m,\u001b[0m \u001b[0mn_max\u001b[0m\u001b[0;34m,\u001b[0m \u001b[0mcenter_x\u001b[0m\u001b[0;34m,\u001b[0m \u001b[0mcenter_y\u001b[0m\u001b[0;34m)\u001b[0m\u001b[0;34m\u001b[0m\u001b[0;34m\u001b[0m\u001b[0m\n\u001b[0m\u001b[1;32m    196\u001b[0m         \u001b[0;32mfor\u001b[0m \u001b[0mi\u001b[0m \u001b[0;32min\u001b[0m \u001b[0mrange\u001b[0m\u001b[0;34m(\u001b[0m\u001b[0mnum_param\u001b[0m\u001b[0;34m)\u001b[0m\u001b[0;34m:\u001b[0m\u001b[0;34m\u001b[0m\u001b[0;34m\u001b[0m\u001b[0m\n\u001b[1;32m    197\u001b[0m             \u001b[0mkwargs_source_shapelet\u001b[0m \u001b[0;34m=\u001b[0m \u001b[0;34m{\u001b[0m\u001b[0;34m'center_x'\u001b[0m\u001b[0;34m:\u001b[0m \u001b[0mcenter_x\u001b[0m\u001b[0;34m,\u001b[0m \u001b[0;34m'center_y'\u001b[0m\u001b[0;34m:\u001b[0m \u001b[0mcenter_y\u001b[0m\u001b[0;34m,\u001b[0m \u001b[0;34m'n1'\u001b[0m\u001b[0;34m:\u001b[0m \u001b[0mn1\u001b[0m\u001b[0;34m,\u001b[0m \u001b[0;34m'n2'\u001b[0m\u001b[0;34m:\u001b[0m \u001b[0mn2\u001b[0m\u001b[0;34m,\u001b[0m \u001b[0;34m'beta'\u001b[0m\u001b[0;34m:\u001b[0m \u001b[0mbeta\u001b[0m\u001b[0;34m,\u001b[0m \u001b[0;34m'amp'\u001b[0m\u001b[0;34m:\u001b[0m \u001b[0mamp\u001b[0m\u001b[0;34m[\u001b[0m\u001b[0mi\u001b[0m\u001b[0;34m]\u001b[0m\u001b[0;34m}\u001b[0m\u001b[0;34m\u001b[0m\u001b[0;34m\u001b[0m\u001b[0m\n",
      "\u001b[0;32m~/Desktop/lenstronomy/lenstronomy/LightModel/Profiles/shapelets.py\u001b[0m in \u001b[0;36mpre_calc\u001b[0;34m(self, x, y, beta, n_order, center_x, center_y)\u001b[0m\n\u001b[1;32m    139\u001b[0m             \u001b[0mn_array\u001b[0m \u001b[0;34m=\u001b[0m \u001b[0mnp\u001b[0m\u001b[0;34m.\u001b[0m\u001b[0mzeros\u001b[0m\u001b[0;34m(\u001b[0m\u001b[0mn\u001b[0m\u001b[0;34m+\u001b[0m\u001b[0;36m1\u001b[0m\u001b[0;34m)\u001b[0m\u001b[0;34m\u001b[0m\u001b[0;34m\u001b[0m\u001b[0m\n\u001b[1;32m    140\u001b[0m             \u001b[0mn_array\u001b[0m\u001b[0;34m[\u001b[0m\u001b[0mn\u001b[0m\u001b[0;34m]\u001b[0m \u001b[0;34m=\u001b[0m \u001b[0;36m1\u001b[0m\u001b[0;34m\u001b[0m\u001b[0;34m\u001b[0m\u001b[0m\n\u001b[0;32m--> 141\u001b[0;31m             \u001b[0mH_x\u001b[0m\u001b[0;34m[\u001b[0m\u001b[0mn\u001b[0m\u001b[0;34m]\u001b[0m \u001b[0;34m=\u001b[0m \u001b[0mself\u001b[0m\u001b[0;34m.\u001b[0m\u001b[0mhermval\u001b[0m\u001b[0;34m(\u001b[0m\u001b[0mx_\u001b[0m\u001b[0;34m/\u001b[0m\u001b[0mbeta\u001b[0m\u001b[0;34m,\u001b[0m \u001b[0mn_array\u001b[0m\u001b[0;34m,\u001b[0m \u001b[0mtensor\u001b[0m\u001b[0;34m=\u001b[0m\u001b[0;32mFalse\u001b[0m\u001b[0;34m)\u001b[0m \u001b[0;34m*\u001b[0m \u001b[0mprefactor\u001b[0m \u001b[0;34m*\u001b[0m \u001b[0mnp\u001b[0m\u001b[0;34m.\u001b[0m\u001b[0mexp\u001b[0m\u001b[0;34m(\u001b[0m\u001b[0;34m-\u001b[0m\u001b[0;34m(\u001b[0m\u001b[0mx_\u001b[0m\u001b[0;34m/\u001b[0m\u001b[0mbeta\u001b[0m\u001b[0;34m)\u001b[0m\u001b[0;34m**\u001b[0m\u001b[0;36m2\u001b[0m\u001b[0;34m/\u001b[0m\u001b[0;36m2.\u001b[0m\u001b[0;34m)\u001b[0m\u001b[0;34m\u001b[0m\u001b[0;34m\u001b[0m\u001b[0m\n\u001b[0m\u001b[1;32m    142\u001b[0m             \u001b[0mH_y\u001b[0m\u001b[0;34m[\u001b[0m\u001b[0mn\u001b[0m\u001b[0;34m]\u001b[0m \u001b[0;34m=\u001b[0m \u001b[0mself\u001b[0m\u001b[0;34m.\u001b[0m\u001b[0mhermval\u001b[0m\u001b[0;34m(\u001b[0m\u001b[0my_\u001b[0m\u001b[0;34m/\u001b[0m\u001b[0mbeta\u001b[0m\u001b[0;34m,\u001b[0m \u001b[0mn_array\u001b[0m\u001b[0;34m,\u001b[0m \u001b[0mtensor\u001b[0m\u001b[0;34m=\u001b[0m\u001b[0;32mFalse\u001b[0m\u001b[0;34m)\u001b[0m \u001b[0;34m*\u001b[0m \u001b[0mprefactor\u001b[0m \u001b[0;34m*\u001b[0m \u001b[0mnp\u001b[0m\u001b[0;34m.\u001b[0m\u001b[0mexp\u001b[0m\u001b[0;34m(\u001b[0m\u001b[0;34m-\u001b[0m\u001b[0;34m(\u001b[0m\u001b[0my_\u001b[0m\u001b[0;34m/\u001b[0m\u001b[0mbeta\u001b[0m\u001b[0;34m)\u001b[0m\u001b[0;34m**\u001b[0m\u001b[0;36m2\u001b[0m\u001b[0;34m/\u001b[0m\u001b[0;36m2.\u001b[0m\u001b[0;34m)\u001b[0m\u001b[0;34m\u001b[0m\u001b[0;34m\u001b[0m\u001b[0m\n\u001b[1;32m    143\u001b[0m         \u001b[0;32mreturn\u001b[0m \u001b[0mH_x\u001b[0m\u001b[0;34m,\u001b[0m \u001b[0mH_y\u001b[0m\u001b[0;34m\u001b[0m\u001b[0;34m\u001b[0m\u001b[0m\n",
      "\u001b[0;32m~/Desktop/lenstronomy/lenstronomy/LightModel/Profiles/shapelets.py\u001b[0m in \u001b[0;36mhermval\u001b[0;34m(self, x, n_array, tensor)\u001b[0m\n\u001b[1;32m     62\u001b[0m             \u001b[0;32melse\u001b[0m\u001b[0;34m:\u001b[0m\u001b[0;34m\u001b[0m\u001b[0;34m\u001b[0m\u001b[0m\n\u001b[1;32m     63\u001b[0m                 \u001b[0mout\u001b[0m \u001b[0;34m=\u001b[0m \u001b[0mnp\u001b[0m\u001b[0;34m.\u001b[0m\u001b[0mzeros_like\u001b[0m\u001b[0;34m(\u001b[0m\u001b[0mx\u001b[0m\u001b[0;34m)\u001b[0m\u001b[0;34m\u001b[0m\u001b[0;34m\u001b[0m\u001b[0m\n\u001b[0;32m---> 64\u001b[0;31m                 \u001b[0mout\u001b[0m\u001b[0;34m[\u001b[0m\u001b[0mx\u001b[0m \u001b[0;34m<\u001b[0m \u001b[0mx_cut\u001b[0m\u001b[0;34m]\u001b[0m \u001b[0;34m=\u001b[0m \u001b[0mhermite\u001b[0m\u001b[0;34m.\u001b[0m\u001b[0mhermval\u001b[0m\u001b[0;34m(\u001b[0m\u001b[0mx\u001b[0m\u001b[0;34m[\u001b[0m\u001b[0mx\u001b[0m \u001b[0;34m<\u001b[0m \u001b[0mx_cut\u001b[0m\u001b[0;34m]\u001b[0m\u001b[0;34m,\u001b[0m \u001b[0mn_array\u001b[0m\u001b[0;34m,\u001b[0m \u001b[0mtensor\u001b[0m\u001b[0;34m=\u001b[0m\u001b[0mtensor\u001b[0m\u001b[0;34m)\u001b[0m\u001b[0;34m\u001b[0m\u001b[0;34m\u001b[0m\u001b[0m\n\u001b[0m\u001b[1;32m     65\u001b[0m                 \u001b[0;32mreturn\u001b[0m \u001b[0mout\u001b[0m\u001b[0;34m\u001b[0m\u001b[0;34m\u001b[0m\u001b[0m\n\u001b[1;32m     66\u001b[0m \u001b[0;34m\u001b[0m\u001b[0m\n",
      "\u001b[0;32m~/anaconda3/envs/astroconda/lib/python3.6/site-packages/numpy/polynomial/hermite.py\u001b[0m in \u001b[0;36mhermval\u001b[0;34m(x, c, tensor)\u001b[0m\n\u001b[1;32m    885\u001b[0m             \u001b[0mc0\u001b[0m \u001b[0;34m=\u001b[0m \u001b[0mc\u001b[0m\u001b[0;34m[\u001b[0m\u001b[0;34m-\u001b[0m\u001b[0mi\u001b[0m\u001b[0;34m]\u001b[0m \u001b[0;34m-\u001b[0m \u001b[0mc1\u001b[0m\u001b[0;34m*\u001b[0m\u001b[0;34m(\u001b[0m\u001b[0;36m2\u001b[0m\u001b[0;34m*\u001b[0m\u001b[0;34m(\u001b[0m\u001b[0mnd\u001b[0m \u001b[0;34m-\u001b[0m \u001b[0;36m1\u001b[0m\u001b[0;34m)\u001b[0m\u001b[0;34m)\u001b[0m\u001b[0;34m\u001b[0m\u001b[0;34m\u001b[0m\u001b[0m\n\u001b[1;32m    886\u001b[0m             \u001b[0mc1\u001b[0m \u001b[0;34m=\u001b[0m \u001b[0mtmp\u001b[0m \u001b[0;34m+\u001b[0m \u001b[0mc1\u001b[0m\u001b[0;34m*\u001b[0m\u001b[0mx2\u001b[0m\u001b[0;34m\u001b[0m\u001b[0;34m\u001b[0m\u001b[0m\n\u001b[0;32m--> 887\u001b[0;31m     \u001b[0;32mreturn\u001b[0m \u001b[0mc0\u001b[0m \u001b[0;34m+\u001b[0m \u001b[0mc1\u001b[0m\u001b[0;34m*\u001b[0m\u001b[0mx2\u001b[0m\u001b[0;34m\u001b[0m\u001b[0;34m\u001b[0m\u001b[0m\n\u001b[0m\u001b[1;32m    888\u001b[0m \u001b[0;34m\u001b[0m\u001b[0m\n\u001b[1;32m    889\u001b[0m \u001b[0;34m\u001b[0m\u001b[0m\n",
      "\u001b[0;31mKeyboardInterrupt\u001b[0m: "
     ]
    }
   ],
   "source": [
    "processor.swim(lens_name='SL2SJ0219-0829', model_id='example2', log=False,verbose=True)"
   ]
  },
  {
   "cell_type": "markdown",
   "metadata": {},
   "source": [
    "## Let's check the output"
   ]
  },
  {
   "cell_type": "code",
   "execution_count": null,
   "metadata": {},
   "outputs": [],
   "source": [
    "from dolphin.analysis.output import Output\n",
    "\n",
    "output = Output('../io_directory_example/')"
   ]
  },
  {
   "cell_type": "code",
   "execution_count": null,
   "metadata": {},
   "outputs": [],
   "source": [
    "fig = output.plot_model_overview(lens_name='SL2SJ0219-0829', model_id='example2',band_index=0)\n",
    "fig2 = output.plot_model_overview(lens_name='SL2SJ0219-0829', model_id='example2',band_index=1)"
   ]
  },
  {
   "cell_type": "markdown",
   "metadata": {},
   "source": [
    "We only ran a pre-sampling optimization here and did not perform a MCMC sampling. So, the above model is the optimized model that the MCMC sample can initiate from. The `kwargs_result` dictionary of the pre-sampling optimization step can be accessed through `Output.kwargs_result` after loading an output using the `Output.load_output()` method."
   ]
  },
  {
   "cell_type": "code",
   "execution_count": null,
   "metadata": {},
   "outputs": [],
   "source": [
    "output.load_output(lens_name='SL2SJ0219-0829', model_id='example2')\n",
    "\n",
    "output.kwargs_result"
   ]
  },
  {
   "cell_type": "markdown",
   "metadata": {},
   "source": [
    "When necessary, the settings of the model run---that was read out of the 'config_{lens_name}.yml' file---can be accessed through the `output.model_settings` variable."
   ]
  },
  {
   "cell_type": "code",
   "execution_count": null,
   "metadata": {},
   "outputs": [],
   "source": [
    "output.model_settings"
   ]
  },
  {
   "cell_type": "code",
   "execution_count": null,
   "metadata": {},
   "outputs": [],
   "source": []
  }
 ],
 "metadata": {
  "kernelspec": {
   "display_name": "Python 3",
   "language": "python",
   "name": "python3"
  },
  "language_info": {
   "codemirror_mode": {
    "name": "ipython",
    "version": 3
   },
   "file_extension": ".py",
   "mimetype": "text/x-python",
   "name": "python",
   "nbconvert_exporter": "python",
   "pygments_lexer": "ipython3",
   "version": "3.8.5"
  }
 },
 "nbformat": 4,
 "nbformat_minor": 4
}
